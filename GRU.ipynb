{
  "nbformat": 4,
  "nbformat_minor": 0,
  "metadata": {
    "colab": {
      "provenance": []
    },
    "kernelspec": {
      "name": "python3",
      "display_name": "Python 3"
    },
    "language_info": {
      "name": "python"
    },
    "accelerator": "GPU",
    "gpuClass": "standard"
  },
  "cells": [
    {
      "cell_type": "markdown",
      "source": [
        "# Sentiment Analysis using GRU"
      ],
      "metadata": {
        "id": "aDZgKfrVAA3G"
      }
    },
    {
      "cell_type": "markdown",
      "source": [
        "**Importing the required libraries**"
      ],
      "metadata": {
        "id": "NMKNtwQJAD6w"
      }
    },
    {
      "cell_type": "code",
      "execution_count": 1,
      "metadata": {
        "id": "iFCnMt15_--Q"
      },
      "outputs": [],
      "source": [
        "import numpy as np\n",
        "import pandas as pd\n",
        "import matplotlib.pyplot as plt\n",
        "\n",
        "from keras.datasets import imdb\n",
        "from keras.utils import pad_sequences\n",
        "from keras.models import Sequential\n",
        "from keras.layers import GRU, Embedding, Dense, Dropout"
      ]
    },
    {
      "cell_type": "markdown",
      "source": [
        "**Set hyperparameters**"
      ],
      "metadata": {
        "id": "0MeEisnkAMa0"
      }
    },
    {
      "cell_type": "code",
      "source": [
        "MAX_FEATURES = 5000 # number of words to keep from the dataset\n",
        "MAXLEN = 250 # maximum length of a sequence\n",
        "BATCH_SIZE = 32\n",
        "EPOCHS = 3"
      ],
      "metadata": {
        "id": "6gkcgxiQAMJG"
      },
      "execution_count": 2,
      "outputs": []
    },
    {
      "cell_type": "markdown",
      "source": [
        "**Load the IMDB dataset**"
      ],
      "metadata": {
        "id": "rPtMvpA2AQYT"
      }
    },
    {
      "cell_type": "code",
      "source": [
        "(X_train, y_train), (X_test, y_test) = imdb.load_data(num_words=MAX_FEATURES)"
      ],
      "metadata": {
        "id": "yvpTeLUPASkP",
        "colab": {
          "base_uri": "https://localhost:8080/",
          "height": 0
        },
        "outputId": "f3487756-40e3-4bcf-e94c-8d363da480a7"
      },
      "execution_count": 3,
      "outputs": [
        {
          "output_type": "stream",
          "name": "stdout",
          "text": [
            "Downloading data from https://storage.googleapis.com/tensorflow/tf-keras-datasets/imdb.npz\n",
            "17464789/17464789 [==============================] - 0s 0us/step\n"
          ]
        }
      ]
    },
    {
      "cell_type": "markdown",
      "source": [
        "**Pad sequences to the same length**"
      ],
      "metadata": {
        "id": "XPuOXdrCAUL4"
      }
    },
    {
      "cell_type": "code",
      "source": [
        "X_train = pad_sequences(X_train, maxlen=MAXLEN)\n",
        "X_test = pad_sequences(X_test, maxlen=MAXLEN)"
      ],
      "metadata": {
        "id": "Ce2e8fUlAX44"
      },
      "execution_count": 4,
      "outputs": []
    },
    {
      "cell_type": "markdown",
      "source": [
        "**Define the model**"
      ],
      "metadata": {
        "id": "H60PSOvoAZoE"
      }
    },
    {
      "cell_type": "code",
      "source": [
        "model = Sequential()\n",
        "model.add(Embedding(input_dim=MAX_FEATURES, output_dim=128, input_length=MAXLEN))\n",
        "model.add(GRU(units=64, dropout=0.2, recurrent_dropout=0.2))\n",
        "model.add(Dense(units=1, activation='sigmoid'))"
      ],
      "metadata": {
        "id": "B4oQEu9XAb-g",
        "colab": {
          "base_uri": "https://localhost:8080/",
          "height": 0
        },
        "outputId": "a6eed895-098e-41be-9b4f-de14abf08159"
      },
      "execution_count": 5,
      "outputs": [
        {
          "output_type": "stream",
          "name": "stderr",
          "text": [
            "WARNING:tensorflow:Layer gru will not use cuDNN kernels since it doesn't meet the criteria. It will use a generic GPU kernel as fallback when running on GPU.\n"
          ]
        }
      ]
    },
    {
      "cell_type": "markdown",
      "source": [
        "**Compile the model**"
      ],
      "metadata": {
        "id": "ZXQZVXscAdKw"
      }
    },
    {
      "cell_type": "code",
      "source": [
        "model.compile(loss='binary_crossentropy', optimizer='adam', metrics=['accuracy'])"
      ],
      "metadata": {
        "id": "6N3JSEKpAfhQ"
      },
      "execution_count": 6,
      "outputs": []
    },
    {
      "cell_type": "markdown",
      "source": [
        "**Train the model**"
      ],
      "metadata": {
        "id": "MbpZlNsKAgxE"
      }
    },
    {
      "cell_type": "code",
      "source": [
        "history = model.fit(X_train, y_train, batch_size=BATCH_SIZE, epochs=EPOCHS, validation_data=(X_test, y_test))"
      ],
      "metadata": {
        "id": "8X4j_7aLAi0Q",
        "colab": {
          "base_uri": "https://localhost:8080/",
          "height": 0
        },
        "outputId": "cbe8e263-ac4a-48eb-9bb6-845d9a8fcb1b"
      },
      "execution_count": 7,
      "outputs": [
        {
          "output_type": "stream",
          "name": "stdout",
          "text": [
            "Epoch 1/3\n",
            "782/782 [==============================] - 841s 1s/step - loss: 0.4224 - accuracy: 0.8022 - val_loss: 0.3496 - val_accuracy: 0.8500\n",
            "Epoch 2/3\n",
            "782/782 [==============================] - 799s 1s/step - loss: 0.2701 - accuracy: 0.8921 - val_loss: 0.2849 - val_accuracy: 0.8841\n",
            "Epoch 3/3\n",
            "782/782 [==============================] - ETA: 0s - loss: 0.1955 - accuracy: 0.9254"
          ]
        }
      ]
    },
    {
      "cell_type": "markdown",
      "source": [
        "**Evaluate the model on test data**"
      ],
      "metadata": {
        "id": "lJP1FLusAjyA"
      }
    },
    {
      "cell_type": "code",
      "source": [
        "score, acc = model.evaluate(X_test, y_test, batch_size=BATCH_SIZE)\n",
        "print('Test score:', score)\n",
        "print('Test accuracy:', acc)"
      ],
      "metadata": {
        "id": "bHIXgHfcAm1Z",
        "colab": {
          "base_uri": "https://localhost:8080/",
          "height": 0
        },
        "outputId": "435bc171-f66c-42a3-a892-abf3a1af6e80"
      },
      "execution_count": 8,
      "outputs": [
        {
          "output_type": "stream",
          "name": "stdout",
          "text": [
            "782/782 [==============================] - 54s 70ms/step - loss: 0.2883 - accuracy: 0.8837\n",
            "Test score: 0.2882551848888397\n",
            "Test accuracy: 0.8837199807167053\n"
          ]
        }
      ]
    }
  ]
}