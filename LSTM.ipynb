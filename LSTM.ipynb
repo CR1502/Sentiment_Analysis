{
  "cells": [
    {
      "cell_type": "markdown",
      "metadata": {
        "id": "HlBS85Sm-9Qx"
      },
      "source": [
        "# Sentiment Analysis using LSTM"
      ]
    },
    {
      "cell_type": "markdown",
      "metadata": {
        "id": "fohNVZMZ_IAz"
      },
      "source": [
        "**Import the required libraries**"
      ]
    },
    {
      "cell_type": "code",
      "execution_count": null,
      "metadata": {
        "id": "6ZGeyoku-4re"
      },
      "outputs": [],
      "source": [
        "import numpy as np\n",
        "import pandas as pd\n",
        "import matplotlib.pyplot as plt\n",
        "\n",
        "from keras.datasets import imdb\n",
        "from keras.utils import pad_sequences\n",
        "from keras.models import Sequential\n",
        "from keras.layers import LSTM, Embedding, Dense, Dropout"
      ]
    },
    {
      "cell_type": "markdown",
      "metadata": {
        "id": "jV2ScmF6_PMJ"
      },
      "source": [
        "**Set the Hyper parameter**"
      ]
    },
    {
      "cell_type": "code",
      "execution_count": null,
      "metadata": {
        "id": "v5juPcHs_TxH"
      },
      "outputs": [],
      "source": [
        "MAX_FEATURES = 5000 # number of words to keep from the dataset\n",
        "MAXLEN = 250 # maximum length of a sequence\n",
        "BATCH_SIZE = 32\n",
        "EPOCHS = 3"
      ]
    },
    {
      "cell_type": "markdown",
      "metadata": {
        "id": "51nOo8_q_VUn"
      },
      "source": [
        "**Load the IMDB dataset**"
      ]
    },
    {
      "cell_type": "code",
      "execution_count": null,
      "metadata": {
        "id": "KQvT2Zh5_Zoa"
      },
      "outputs": [],
      "source": [
        "(X_train, y_train), (X_test, y_test) = imdb.load_data(num_words=MAX_FEATURES)"
      ]
    },
    {
      "cell_type": "markdown",
      "metadata": {
        "id": "isMO3BMA_bOM"
      },
      "source": [
        "**Pad sequences to the same length**"
      ]
    },
    {
      "cell_type": "code",
      "execution_count": null,
      "metadata": {
        "colab": {
          "background_save": true
        },
        "id": "7LiD0PhO_eTT"
      },
      "outputs": [],
      "source": [
        "X_train = pad_sequences(X_train, maxlen=MAXLEN)\n",
        "X_test = pad_sequences(X_test, maxlen=MAXLEN)"
      ]
    },
    {
      "cell_type": "markdown",
      "metadata": {
        "id": "a1ml5osH_f8b"
      },
      "source": [
        "**Define the model**"
      ]
    },
    {
      "cell_type": "code",
      "execution_count": null,
      "metadata": {
        "colab": {
          "background_save": true
        },
        "id": "wj7jDExc_jSR",
        "outputId": "c931d1a0-703e-4164-9cd9-fea09a98a790"
      },
      "outputs": [
        {
          "name": "stderr",
          "output_type": "stream",
          "text": [
            "WARNING:tensorflow:Layer lstm_1 will not use cuDNN kernels since it doesn't meet the criteria. It will use a generic GPU kernel as fallback when running on GPU.\n"
          ]
        }
      ],
      "source": [
        "model = Sequential()\n",
        "model.add(Embedding(input_dim=MAX_FEATURES, output_dim=128, input_length=MAXLEN))\n",
        "model.add(LSTM(units=64, dropout=0.2, recurrent_dropout=0.2))\n",
        "model.add(Dense(units=1, activation='sigmoid'))"
      ]
    },
    {
      "cell_type": "markdown",
      "metadata": {
        "id": "2THggj-E_kk4"
      },
      "source": [
        "**Compile the model**"
      ]
    },
    {
      "cell_type": "code",
      "execution_count": null,
      "metadata": {
        "colab": {
          "background_save": true
        },
        "id": "4gsK9Fgk_ow_"
      },
      "outputs": [],
      "source": [
        "model.compile(loss='binary_crossentropy', optimizer='adam', metrics=['accuracy'])"
      ]
    },
    {
      "cell_type": "markdown",
      "metadata": {
        "id": "vfqcTit6_qkS"
      },
      "source": [
        "**Train the model**"
      ]
    },
    {
      "cell_type": "code",
      "execution_count": 14,
      "metadata": {
        "colab": {
          "base_uri": "https://localhost:8080/",
          "height": 0
        },
        "id": "EhiRBDpA_tls",
        "outputId": "39fada61-dcde-4829-9ca9-13983e960164"
      },
      "outputs": [
        {
          "output_type": "stream",
          "name": "stdout",
          "text": [
            "Epoch 1/3\n",
            "782/782 [==============================] - 987s 1s/step - loss: 0.4168 - accuracy: 0.8081 - val_loss: 0.3421 - val_accuracy: 0.8582\n",
            "Epoch 2/3\n",
            "782/782 [==============================] - 961s 1s/step - loss: 0.3028 - accuracy: 0.8750 - val_loss: 0.3418 - val_accuracy: 0.8609\n",
            "Epoch 3/3\n",
            "782/782 [==============================] - 973s 1s/step - loss: 0.2529 - accuracy: 0.9013 - val_loss: 0.3792 - val_accuracy: 0.8501\n"
          ]
        }
      ],
      "source": [
        "history = model.fit(X_train, y_train, batch_size=BATCH_SIZE, epochs=EPOCHS, validation_data=(X_test, y_test))"
      ]
    },
    {
      "cell_type": "markdown",
      "metadata": {
        "id": "CRUW_DOU_vDH"
      },
      "source": [
        "**Evaluate the model on test data**"
      ]
    },
    {
      "cell_type": "code",
      "execution_count": 15,
      "metadata": {
        "id": "2erC-9PO_zAo",
        "colab": {
          "base_uri": "https://localhost:8080/",
          "height": 0
        },
        "outputId": "a2b42113-cda7-4720-e5e3-48feee95ff1e"
      },
      "outputs": [
        {
          "output_type": "stream",
          "name": "stdout",
          "text": [
            "782/782 [==============================] - 62s 79ms/step - loss: 0.3792 - accuracy: 0.8501\n",
            "Test score: 0.3792017102241516\n",
            "Test accuracy: 0.8500800132751465\n"
          ]
        }
      ],
      "source": [
        "score, acc = model.evaluate(X_test, y_test, batch_size=BATCH_SIZE)\n",
        "print('Test score:', score)\n",
        "print('Test accuracy:', acc)"
      ]
    }
  ],
  "metadata": {
    "accelerator": "GPU",
    "colab": {
      "provenance": []
    },
    "gpuClass": "standard",
    "kernelspec": {
      "display_name": "Python 3",
      "name": "python3"
    },
    "language_info": {
      "name": "python"
    }
  },
  "nbformat": 4,
  "nbformat_minor": 0
}